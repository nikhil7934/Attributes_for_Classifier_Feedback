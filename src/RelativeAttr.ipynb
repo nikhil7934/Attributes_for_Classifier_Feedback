{
 "cells": [
  {
   "cell_type": "code",
   "execution_count": 2,
   "metadata": {},
   "outputs": [],
   "source": [
    "import numpy as np\n",
    "import scipy\n",
    "import scipy.io as sio\n",
    "from scipy.sparse import csr_matrix\n",
    "from scipy.optimize import least_squares"
   ]
  },
  {
   "cell_type": "code",
   "execution_count": 3,
   "metadata": {},
   "outputs": [],
   "source": [
    "def obj_fun_linear(w, C, out, n0, A, X):\n",
    "    out[0:n0] = np.maximum(np.zeros([n0, 1]),out[0:n0])\n",
    "    obj = np.sum(np.multiply(C, np.multiply(out, out))) / 2.0 + np.dot(np.transpose(w), w) / 2.0\n",
    "    grad = w - np.transpose(np.transpose(np.multiply(C, out)) * A * X)\n",
    "    sv = out[0:n0] > 0, abs(out[n0:]) > 0\n",
    "    return obj[0, 0], grad, sv"
   ]
  },
  {
   "cell_type": "code",
   "execution_count": 4,
   "metadata": {},
   "outputs": [],
   "source": [
    "def hess_vect_mult(w, sv, C, grad, n0, A, X):\n",
    "    w = np.transpose(np.matrix(w))\n",
    "    y = w\n",
    "    z = np.multiply(np.multiply(C, sv), A * (X * w))\n",
    "    y = y + np.transpose((np.transpose(z) * A) * X) + grad\n",
    "    y = y.A1\n",
    "    return y"
   ]
  },
  {
   "cell_type": "code",
   "execution_count": 5,
   "metadata": {},
   "outputs": [],
   "source": [
    "def line_search_linear(w, d, out, C, n0 ,A, X):\n",
    "    t = 0\n",
    "    Xd = A * (X * d)\n",
    "\n",
    "    while 1:\n",
    "        out2 = out - t * Xd\n",
    "        sv = np.nonzero( scipy.vstack(( out2[0:n0] > 0, abs(out2[n0:]) > 0 )) )[0]\n",
    "        g = np.transpose(w) * d + t * np.transpose(d) * d - np.transpose(np.multiply(C[sv], out2[sv])) * Xd[sv]\n",
    "        h = np.transpose(d) * d + np.transpose(Xd[sv]) * np.multiply(Xd[sv], C[sv])\n",
    "        g, h = g[0, 0], h[0, 0]\n",
    "        t = t - g / h\n",
    "        if g * g / h < 1e-8: \n",
    "            break\n",
    "    out = out2\n",
    "    return t, out"
   ]
  },
  {
   "cell_type": "code",
   "execution_count": 6,
   "metadata": {},
   "outputs": [],
   "source": [
    "def rank_svm(X_, S_, O_):\n",
    "\n",
    "    # opt\n",
    "    max_itr = 10\n",
    "    cg_max_itr = 20\n",
    "    prec = 1e-8\n",
    "\n",
    "    X = X_; A = O_; B = S_;\n",
    "    n0, d = A.shape[0], X.shape[1]\n",
    "    w = scipy.matrix(scipy.zeros([d, 1]))\n",
    "\n",
    "    itr = 0\n",
    "    C = scipy.matrix(0.1*scipy.ones([A.shape[0]+B.shape[0], 1]))\n",
    "\n",
    "    out1 = scipy.matrix(scipy.vstack( (scipy.ones([A.shape[0], 1]), scipy.zeros([B.shape[0], 1])) ))\n",
    "    A = scipy.sparse.vstack((A, B))\n",
    "    out = out1 - A * X * w\n",
    "\n",
    "    while 1:\n",
    "        itr += 1\n",
    "        if itr > max_itr:\n",
    "            print(\"Maximum number of Newton steps reached\")\n",
    "            break\n",
    "\n",
    "\n",
    "        obj, grad, sv = obj_fun_linear(w, C, out, n0, A, X)\n",
    "        sv = scipy.vstack(sv)\n",
    "        res = least_squares(hess_vect_mult, np.zeros(w.shape[0]), ftol = 1e-8, xtol = 1e-8, gtol = 1e-8, args = (sv, C, grad, n0, A, X))\n",
    "        step = np.transpose(np.matrix(res.x))\n",
    "        t, out = line_search_linear(w, step, out, C, n0, A, X)\n",
    "        w += t * step;\n",
    "\n",
    "        check = - np.transpose(step) * grad\n",
    "        check = check[0, 0]\n",
    "        print(check, prec*obj)\n",
    "        if check < prec * obj: \n",
    "            break\n",
    "\n",
    "        print(\"Iteration = \", itr)\n",
    "\n",
    "    print(w)\n",
    "    return w"
   ]
  },
  {
   "cell_type": "code",
   "execution_count": 7,
   "metadata": {},
   "outputs": [],
   "source": [
    "datadict = sio.loadmat('./relative_attributes_v2/relative_attributes/pubfig/data.mat')"
   ]
  },
  {
   "cell_type": "code",
   "execution_count": 8,
   "metadata": {},
   "outputs": [],
   "source": [
    "attr_names = []\n",
    "for x in datadict['attribute_names'][0]:\n",
    "    attr_names.append(x[0])\n",
    "datadict['attribute_names'] = attr_names\n",
    "\n",
    "datadict['im_names'] = datadict['im_names'][0]\n",
    "datadict['class_labels'] = datadict['class_labels'][:, 0]\n",
    "datadict['used_for_training'] = datadict['used_for_training'][:, 0]\n",
    "datadict['class_names'] = datadict['class_names'][0]"
   ]
  },
  {
   "cell_type": "code",
   "execution_count": 8,
   "metadata": {},
   "outputs": [
    {
     "ename": "MemoryError",
     "evalue": "",
     "output_type": "error",
     "traceback": [
      "\u001b[0;31m---------------------------------------------------------------------------\u001b[0m",
      "\u001b[0;31mMemoryError\u001b[0m                               Traceback (most recent call last)",
      "\u001b[0;32m<ipython-input-8-eb1aab716d35>\u001b[0m in \u001b[0;36m<module>\u001b[0;34m()\u001b[0m\n\u001b[1;32m     34\u001b[0m     \u001b[0mO\u001b[0m \u001b[0;34m=\u001b[0m \u001b[0mcsr_matrix\u001b[0m\u001b[0;34m(\u001b[0m\u001b[0;34m(\u001b[0m\u001b[0mOdata\u001b[0m\u001b[0;34m[\u001b[0m\u001b[0;36m2\u001b[0m\u001b[0;34m]\u001b[0m\u001b[0;34m,\u001b[0m \u001b[0;34m(\u001b[0m\u001b[0mOdata\u001b[0m\u001b[0;34m[\u001b[0m\u001b[0;36m0\u001b[0m\u001b[0;34m]\u001b[0m\u001b[0;34m,\u001b[0m \u001b[0mOdata\u001b[0m\u001b[0;34m[\u001b[0m\u001b[0;36m1\u001b[0m\u001b[0;34m]\u001b[0m\u001b[0;34m)\u001b[0m\u001b[0;34m)\u001b[0m\u001b[0;34m,\u001b[0m\u001b[0;34m(\u001b[0m\u001b[0mint\u001b[0m\u001b[0;34m(\u001b[0m\u001b[0mlen\u001b[0m\u001b[0;34m(\u001b[0m\u001b[0mOdata\u001b[0m\u001b[0;34m[\u001b[0m\u001b[0;36m0\u001b[0m\u001b[0;34m]\u001b[0m\u001b[0;34m)\u001b[0m\u001b[0;34m/\u001b[0m\u001b[0;36m2\u001b[0m\u001b[0;34m)\u001b[0m\u001b[0;34m,\u001b[0m \u001b[0mnum\u001b[0m\u001b[0;34m)\u001b[0m\u001b[0;34m)\u001b[0m\u001b[0;34m\u001b[0m\u001b[0m\n\u001b[1;32m     35\u001b[0m     \u001b[0mX\u001b[0m \u001b[0;34m=\u001b[0m \u001b[0mscipy\u001b[0m\u001b[0;34m.\u001b[0m\u001b[0mmatrix\u001b[0m\u001b[0;34m(\u001b[0m\u001b[0mdatadict\u001b[0m\u001b[0;34m[\u001b[0m\u001b[0;34m'feat'\u001b[0m\u001b[0;34m]\u001b[0m\u001b[0;34m)\u001b[0m\u001b[0;34m\u001b[0m\u001b[0m\n\u001b[0;32m---> 36\u001b[0;31m     \u001b[0mw\u001b[0m \u001b[0;34m=\u001b[0m \u001b[0mrank_svm\u001b[0m\u001b[0;34m(\u001b[0m\u001b[0mX\u001b[0m\u001b[0;34m,\u001b[0m \u001b[0mS\u001b[0m\u001b[0;34m,\u001b[0m \u001b[0mO\u001b[0m\u001b[0;34m)\u001b[0m\u001b[0;34m\u001b[0m\u001b[0m\n\u001b[0m\u001b[1;32m     37\u001b[0m     \u001b[0mWeightMatrix\u001b[0m\u001b[0;34m.\u001b[0m\u001b[0mappend\u001b[0m\u001b[0;34m(\u001b[0m\u001b[0mw\u001b[0m\u001b[0;34m)\u001b[0m\u001b[0;34m\u001b[0m\u001b[0m\n",
      "\u001b[0;32m<ipython-input-5-21bf253c2ce8>\u001b[0m in \u001b[0;36mrank_svm\u001b[0;34m(X_, S_, O_)\u001b[0m\n\u001b[1;32m     15\u001b[0m     \u001b[0mout1\u001b[0m \u001b[0;34m=\u001b[0m \u001b[0mscipy\u001b[0m\u001b[0;34m.\u001b[0m\u001b[0mmatrix\u001b[0m\u001b[0;34m(\u001b[0m\u001b[0mscipy\u001b[0m\u001b[0;34m.\u001b[0m\u001b[0mvstack\u001b[0m\u001b[0;34m(\u001b[0m \u001b[0;34m(\u001b[0m\u001b[0mscipy\u001b[0m\u001b[0;34m.\u001b[0m\u001b[0mones\u001b[0m\u001b[0;34m(\u001b[0m\u001b[0;34m[\u001b[0m\u001b[0mA\u001b[0m\u001b[0;34m.\u001b[0m\u001b[0mshape\u001b[0m\u001b[0;34m[\u001b[0m\u001b[0;36m0\u001b[0m\u001b[0;34m]\u001b[0m\u001b[0;34m,\u001b[0m \u001b[0;36m1\u001b[0m\u001b[0;34m]\u001b[0m\u001b[0;34m)\u001b[0m\u001b[0;34m,\u001b[0m \u001b[0mscipy\u001b[0m\u001b[0;34m.\u001b[0m\u001b[0mzeros\u001b[0m\u001b[0;34m(\u001b[0m\u001b[0;34m[\u001b[0m\u001b[0mB\u001b[0m\u001b[0;34m.\u001b[0m\u001b[0mshape\u001b[0m\u001b[0;34m[\u001b[0m\u001b[0;36m0\u001b[0m\u001b[0;34m]\u001b[0m\u001b[0;34m,\u001b[0m \u001b[0;36m1\u001b[0m\u001b[0;34m]\u001b[0m\u001b[0;34m)\u001b[0m\u001b[0;34m)\u001b[0m \u001b[0;34m)\u001b[0m\u001b[0;34m)\u001b[0m\u001b[0;34m\u001b[0m\u001b[0m\n\u001b[1;32m     16\u001b[0m     \u001b[0mA\u001b[0m \u001b[0;34m=\u001b[0m \u001b[0mscipy\u001b[0m\u001b[0;34m.\u001b[0m\u001b[0msparse\u001b[0m\u001b[0;34m.\u001b[0m\u001b[0mvstack\u001b[0m\u001b[0;34m(\u001b[0m\u001b[0;34m(\u001b[0m\u001b[0mA\u001b[0m\u001b[0;34m,\u001b[0m \u001b[0mB\u001b[0m\u001b[0;34m)\u001b[0m\u001b[0;34m)\u001b[0m\u001b[0;34m\u001b[0m\u001b[0m\n\u001b[0;32m---> 17\u001b[0;31m     \u001b[0mout\u001b[0m \u001b[0;34m=\u001b[0m \u001b[0mout1\u001b[0m \u001b[0;34m-\u001b[0m \u001b[0mA\u001b[0m \u001b[0;34m*\u001b[0m \u001b[0mX\u001b[0m \u001b[0;34m*\u001b[0m \u001b[0mw\u001b[0m\u001b[0;34m\u001b[0m\u001b[0m\n\u001b[0m\u001b[1;32m     18\u001b[0m \u001b[0;34m\u001b[0m\u001b[0m\n\u001b[1;32m     19\u001b[0m     \u001b[0;32mwhile\u001b[0m \u001b[0;36m1\u001b[0m\u001b[0;34m:\u001b[0m\u001b[0;34m\u001b[0m\u001b[0m\n",
      "\u001b[0;32m/usr/local/lib/python3.5/dist-packages/scipy/sparse/base.py\u001b[0m in \u001b[0;36m__mul__\u001b[0;34m(self, other)\u001b[0m\n\u001b[1;32m    518\u001b[0m                 \u001b[0;32mraise\u001b[0m \u001b[0mValueError\u001b[0m\u001b[0;34m(\u001b[0m\u001b[0;34m'dimension mismatch'\u001b[0m\u001b[0;34m)\u001b[0m\u001b[0;34m\u001b[0m\u001b[0m\n\u001b[1;32m    519\u001b[0m \u001b[0;34m\u001b[0m\u001b[0m\n\u001b[0;32m--> 520\u001b[0;31m             \u001b[0mresult\u001b[0m \u001b[0;34m=\u001b[0m \u001b[0mself\u001b[0m\u001b[0;34m.\u001b[0m\u001b[0m_mul_multivector\u001b[0m\u001b[0;34m(\u001b[0m\u001b[0mnp\u001b[0m\u001b[0;34m.\u001b[0m\u001b[0masarray\u001b[0m\u001b[0;34m(\u001b[0m\u001b[0mother\u001b[0m\u001b[0;34m)\u001b[0m\u001b[0;34m)\u001b[0m\u001b[0;34m\u001b[0m\u001b[0m\n\u001b[0m\u001b[1;32m    521\u001b[0m \u001b[0;34m\u001b[0m\u001b[0m\n\u001b[1;32m    522\u001b[0m             \u001b[0;32mif\u001b[0m \u001b[0misinstance\u001b[0m\u001b[0;34m(\u001b[0m\u001b[0mother\u001b[0m\u001b[0;34m,\u001b[0m \u001b[0mnp\u001b[0m\u001b[0;34m.\u001b[0m\u001b[0mmatrix\u001b[0m\u001b[0;34m)\u001b[0m\u001b[0;34m:\u001b[0m\u001b[0;34m\u001b[0m\u001b[0m\n",
      "\u001b[0;32m/usr/local/lib/python3.5/dist-packages/scipy/sparse/compressed.py\u001b[0m in \u001b[0;36m_mul_multivector\u001b[0;34m(self, other)\u001b[0m\n\u001b[1;32m    475\u001b[0m \u001b[0;34m\u001b[0m\u001b[0m\n\u001b[1;32m    476\u001b[0m         result = np.zeros((M, n_vecs),\n\u001b[0;32m--> 477\u001b[0;31m                           dtype=upcast_char(self.dtype.char, other.dtype.char))\n\u001b[0m\u001b[1;32m    478\u001b[0m \u001b[0;34m\u001b[0m\u001b[0m\n\u001b[1;32m    479\u001b[0m         \u001b[0;31m# csr_matvecs or csc_matvecs\u001b[0m\u001b[0;34m\u001b[0m\u001b[0;34m\u001b[0m\u001b[0m\n",
      "\u001b[0;31mMemoryError\u001b[0m: "
     ]
    }
   ],
   "source": [
    "WeightMatrix=[]\n",
    "for p in range(len(datadict['attribute_names'])):\n",
    "    cat_ordering = datadict['relative_ordering'][p]\n",
    "    Sdata, Odata = [[],[],[]], [[],[],[]]\n",
    "    num = datadict['feat'].shape[0]\n",
    "    for i in range(len(datadict['class_labels'])):\n",
    "        im1_lab = datadict['class_labels'][i] - 1\n",
    "        for j in range(len(datadict['class_labels'][i+1:])):\n",
    "            im2_lab = datadict['class_labels'][i+1:][j] - 1\n",
    "            if cat_ordering[im1_lab] == cat_ordering[im2_lab]:\n",
    "                Sdata[0].append(len(Sdata[0])/2)\n",
    "                Sdata[0].append(len(Sdata[0])/2)\n",
    "                Sdata[1].append(i)\n",
    "                Sdata[1].append(i+j+1)\n",
    "                Sdata[2].append(-1)\n",
    "                Sdata[2].append(1)\n",
    "\n",
    "            elif cat_ordering[im1_lab] < cat_ordering[im2_lab]:\n",
    "                Odata[0].append(len(Odata[0])/2)\n",
    "                Odata[0].append(len(Odata[0])/2)\n",
    "                Odata[1].append(i)\n",
    "                Odata[1].append(i+j+1)\n",
    "                Odata[2].append(-1)\n",
    "                Odata[2].append(1)\n",
    "            elif cat_ordering[im1_lab] > cat_ordering[im2_lab]:\n",
    "                Odata[0].append(len(Odata[0])/2)\n",
    "                Odata[0].append(len(Odata[0])/2)\n",
    "                Odata[1].append(i)\n",
    "                Odata[1].append(i+j+1)\n",
    "                Odata[2].append(1)\n",
    "                Odata[2].append(-1)\n",
    "\n",
    "    S = csr_matrix((Sdata[2], (Sdata[0], Sdata[1])),(int(len(Sdata[0])/2), num))\n",
    "    O = csr_matrix((Odata[2], (Odata[0], Odata[1])),(int(len(Odata[0])/2), num))\n",
    "    X = scipy.matrix(datadict['feat'])\n",
    "    w = rank_svm(X, S, O)\n",
    "    WeightMatrix.append(w)\n"
   ]
  },
  {
   "cell_type": "code",
   "execution_count": 13,
   "metadata": {},
   "outputs": [
    {
     "name": "stdout",
     "output_type": "stream",
     "text": [
      "[[-1.64102452]]\n"
     ]
    }
   ],
   "source": [
    "#indicates smiling attribute\n",
    "#order is \n",
    "# Male\n",
    "# White\n",
    "# Young\n",
    "# Smiling\n",
    "# Chubby\n",
    "# VisibleForehead\n",
    "# BushyEyebrows\n",
    "# NarrowEyes\n",
    "# PointyNose\n",
    "# BigLips\n",
    "# RoundFace\n",
    "# 3 indicates smiling\n",
    "print(np.dot(X[423],WeightMatrix[0]))"
   ]
  },
  {
   "cell_type": "code",
   "execution_count": 16,
   "metadata": {},
   "outputs": [],
   "source": [
    "np.save('./results/WeightMatrixosr.npy',WeightMatrix)"
   ]
  },
  {
   "cell_type": "code",
   "execution_count": 21,
   "metadata": {},
   "outputs": [],
   "source": [
    "w=np.load('./results/WeightMatrix.npy')"
   ]
  },
  {
   "cell_type": "code",
   "execution_count": 29,
   "metadata": {},
   "outputs": [
    {
     "name": "stdout",
     "output_type": "stream",
     "text": [
      "541\n"
     ]
    }
   ],
   "source": [
    "for i,x in enumerate(datadict['im_names']):      \n",
    "    if x[0]=='ScarlettJohansson_331.jpg':  \n",
    "        print(i)\n",
    "        break"
   ]
  },
  {
   "cell_type": "code",
   "execution_count": 22,
   "metadata": {},
   "outputs": [
    {
     "ename": "ValueError",
     "evalue": "shapes (512,) and (542,1) not aligned: 512 (dim 0) != 542 (dim 0)",
     "output_type": "error",
     "traceback": [
      "\u001b[0;31m---------------------------------------------------------------------------\u001b[0m",
      "\u001b[0;31mValueError\u001b[0m                                Traceback (most recent call last)",
      "\u001b[0;32m<ipython-input-22-c9aed3a4b043>\u001b[0m in \u001b[0;36m<module>\u001b[0;34m()\u001b[0m\n\u001b[1;32m      1\u001b[0m \u001b[0mX\u001b[0m\u001b[0;34m=\u001b[0m\u001b[0mdatadict\u001b[0m\u001b[0;34m[\u001b[0m\u001b[0;34m'feat'\u001b[0m\u001b[0;34m]\u001b[0m\u001b[0;34m\u001b[0m\u001b[0m\n\u001b[0;32m----> 2\u001b[0;31m \u001b[0mprint\u001b[0m\u001b[0;34m(\u001b[0m\u001b[0mnp\u001b[0m\u001b[0;34m.\u001b[0m\u001b[0mdot\u001b[0m\u001b[0;34m(\u001b[0m\u001b[0mX\u001b[0m\u001b[0;34m[\u001b[0m\u001b[0;36m659\u001b[0m\u001b[0;34m]\u001b[0m\u001b[0;34m.\u001b[0m\u001b[0mT\u001b[0m\u001b[0;34m,\u001b[0m\u001b[0mw\u001b[0m\u001b[0;34m[\u001b[0m\u001b[0;36m0\u001b[0m\u001b[0;34m]\u001b[0m\u001b[0;34m)\u001b[0m\u001b[0;34m)\u001b[0m\u001b[0;34m\u001b[0m\u001b[0m\n\u001b[0m",
      "\u001b[0;31mValueError\u001b[0m: shapes (512,) and (542,1) not aligned: 512 (dim 0) != 542 (dim 0)"
     ]
    }
   ],
   "source": [
    "X=datadict['feat']\n",
    "print(np.dot(X[659].T,w[0]))"
   ]
  },
  {
   "cell_type": "code",
   "execution_count": 56,
   "metadata": {},
   "outputs": [
    {
     "data": {
      "text/plain": [
       "array(['ViggoMortensen_179.jpg'], dtype='<U22')"
      ]
     },
     "execution_count": 56,
     "metadata": {},
     "output_type": "execute_result"
    }
   ],
   "source": [
    "minSmile=500\n",
    "name=\"\";\n",
    "for x in range(len(datadict['im_names'])):\n",
    "    if np.dot(X[x],w1[3]) < minSmile:\n",
    "        minSmile=np.dot(X[x],w1[3])\n",
    "        name=datadict['im_names'][x]\n",
    "name"
   ]
  },
  {
   "cell_type": "code",
   "execution_count": 61,
   "metadata": {},
   "outputs": [
    {
     "data": {
      "text/plain": [
       "array(['AlexRodriguez_133.jpg'], dtype='<U21')"
      ]
     },
     "execution_count": 61,
     "metadata": {},
     "output_type": "execute_result"
    }
   ],
   "source": [
    "maxChubby=-500\n",
    "name=\"\";\n",
    "for x in range(len(datadict['im_names'])):\n",
    "    if np.dot(X[x],w1[4]) > maxChubby:\n",
    "        maxChubby=np.dot(X[x],w1[4])\n",
    "        name=datadict['im_names'][x]\n",
    "name"
   ]
  },
  {
   "cell_type": "code",
   "execution_count": 32,
   "metadata": {},
   "outputs": [
    {
     "data": {
      "text/plain": [
       "8"
      ]
     },
     "execution_count": 32,
     "metadata": {},
     "output_type": "execute_result"
    }
   ],
   "source": [
    "datadict['class_labels'][-1]"
   ]
  }
 ],
 "metadata": {
  "kernelspec": {
   "display_name": "Python 3",
   "language": "python",
   "name": "python3"
  },
  "language_info": {
   "codemirror_mode": {
    "name": "ipython",
    "version": 3
   },
   "file_extension": ".py",
   "mimetype": "text/x-python",
   "name": "python",
   "nbconvert_exporter": "python",
   "pygments_lexer": "ipython3",
   "version": "3.5.2"
  }
 },
 "nbformat": 4,
 "nbformat_minor": 2
}
