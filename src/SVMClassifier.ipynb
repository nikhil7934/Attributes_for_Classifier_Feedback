{
 "cells": [
  {
   "cell_type": "code",
   "execution_count": 1,
   "metadata": {},
   "outputs": [],
   "source": [
    "import numpy as np\n",
    "import scipy.io as sio\n",
    "import matplotlib.pyplot as plt\n",
    "import cv2\n",
    "import random"
   ]
  },
  {
   "cell_type": "code",
   "execution_count": 2,
   "metadata": {},
   "outputs": [],
   "source": [
    "accuracies=[]\n",
    "data = sio.loadmat('./relative_attributes_v2/relative_attributes/pubfig/data.mat')\n",
    "# data = sio.loadmat('./relative_attributes_v2/relative_attributes/osr/data.mat')\n",
    "attr_names = []\n",
    "for x in data['attribute_names'][0]:\n",
    "    attr_names.append(x[0])\n",
    "data['attribute_names'] = attr_names\n",
    "data['feat']=np.array(data['feat'])\n",
    "data['im_names'] = data['im_names'][0]\n",
    "data['class_labels'] = data['class_labels'][:, 0]\n",
    "data['used_for_training'] = data['used_for_training'][:, 0]\n",
    "data['class_names'] = data['class_names'][0]\n",
    "data['used_for_feedback']=[]\n",
    "for i in range(len(data['feat'])):\n",
    "    if(data['used_for_training'][i]!=1 and random.uniform(0, 1)<0.2):\n",
    "        data['used_for_feedback'].append(1)\n",
    "    else:\n",
    "        data['used_for_feedback'].append(0)"
   ]
  },
  {
   "cell_type": "code",
   "execution_count": 3,
   "metadata": {},
   "outputs": [],
   "source": [
    "w=np.load('./results/WeightMatrix.npy')\n",
    "data['score']=[]\n",
    "Noimages=[]\n",
    "for Class in range(len(data['class_names'])):\n",
    "    Noimages.append(0)\n",
    "    data['score'].append([])\n",
    "    for attr in range(len(data['attribute_names'])):\n",
    "        data['score'][Class].append([0])\n",
    "for i in range(len(data['feat'])):\n",
    "    Noimages[data['class_labels'][i]-1]+=1\n",
    "    data['score'][data['class_labels'][i]-1]+=np.dot(data['feat'][i],w)\n",
    "for Class in range(len(data['class_names'])):\n",
    "    for attr in range(len(data['attribute_names'])):\n",
    "        data['score'][Class][attr]/=Noimages[Class]"
   ]
  },
  {
   "cell_type": "code",
   "execution_count": 4,
   "metadata": {},
   "outputs": [],
   "source": [
    "# sum(np.logical_and(data['class_labels']==1 , data['used_for_training']==1))\n",
    "# sum(data['class_labels']==1)\n",
    "# Now construct a RBF SVM classifier with data['used for training'] \n"
   ]
  },
  {
   "cell_type": "code",
   "execution_count": 5,
   "metadata": {},
   "outputs": [],
   "source": [
    "from sklearn.svm import SVC"
   ]
  },
  {
   "cell_type": "code",
   "execution_count": 6,
   "metadata": {},
   "outputs": [],
   "source": [
    "binclassifier=[]\n",
    "X=[]\n",
    "Y=[]\n",
    "\n",
    "for Class in range(len(data['class_names'])):\n",
    "    binclassifier.append(SVC(gamma='auto',kernel='rbf',probability=True))\n",
    "    X.append([])\n",
    "    Y.append([])\n",
    "    for i in range(len(data['feat'])):\n",
    "        if(data['class_labels'][i]==Class+1  and data['used_for_training'][i]==1):\n",
    "            X[Class].append(data['feat'][i])\n",
    "            Y[Class].append(1)\n",
    "    #     elif(data['used_for_training'][i]==1):\n",
    "        elif(data['class_labels'][i]!=Class+1 and data['used_for_training'][i]==1):\n",
    "            X[Class].append(data['feat'][i])\n",
    "            Y[Class].append(-1)\n",
    "    binclassifier[Class].fit(X[Class],Y[Class])"
   ]
  },
  {
   "cell_type": "code",
   "execution_count": null,
   "metadata": {},
   "outputs": [],
   "source": []
  },
  {
   "cell_type": "code",
   "execution_count": 7,
   "metadata": {},
   "outputs": [
    {
     "data": {
      "text/plain": [
       "array([array(['AlexRodriguez'], dtype='<U13'),\n",
       "       array(['CliveOwen'], dtype='<U9'),\n",
       "       array(['HughLaurie'], dtype='<U10'),\n",
       "       array(['JaredLeto'], dtype='<U9'),\n",
       "       array(['MileyCyrus'], dtype='<U10'),\n",
       "       array(['ScarlettJohansson'], dtype='<U17'),\n",
       "       array(['ViggoMortensen'], dtype='<U14'),\n",
       "       array(['ZacEfron'], dtype='<U8')], dtype=object)"
      ]
     },
     "execution_count": 7,
     "metadata": {},
     "output_type": "execute_result"
    }
   ],
   "source": [
    "data['class_names']"
   ]
  },
  {
   "cell_type": "code",
   "execution_count": 8,
   "metadata": {},
   "outputs": [],
   "source": [
    "def classifyAccuracy():\n",
    "    count=0\n",
    "    count1=0\n",
    "    predictedClass=[]\n",
    "    for i in range(len(data['feat'])):\n",
    "        predictedClass.append(-1)\n",
    "        maxProb=0\n",
    "        den=0\n",
    "    #     for j in range(len(data['class_names'])):\n",
    "    #         den+=binclassifier[j].predict_proba(data['feat'][i].reshape(1,-1))[0][1]\n",
    "        for j in range(len(data['class_names'])):\n",
    "            if(maxProb<binclassifier[j].predict_proba(data['feat'][i].reshape(1,-1))[0][1]):\n",
    "                maxProb=binclassifier[j].predict_proba(data['feat'][i].reshape(1,-1))[0][1]\n",
    "                predictedClass[len(predictedClass)-1]=j\n",
    "    #         print(binclassifier[j].predict_proba(data['feat'][i].reshape(1,-1))[0][1])\n",
    "    #     print(predictedClass,data['class_labels'][i]-1)\n",
    "        if(predictedClass[len(predictedClass)-1]==data['class_labels'][i]-1):\n",
    "            count+=1\n",
    "    # print()\n",
    "    #     print(classifier.predict_proba([data['feat'][i]]),data['class_labels'][i])\n",
    "    # print(trainingCount,count1,count/len(data['feat']))\n",
    "#     print(\"accuracy is :\",100*count/len(data['feat']))\n",
    "    accuracies.append(100*count/len(data['feat']))\n",
    "    return predictedClass"
   ]
  },
  {
   "cell_type": "code",
   "execution_count": 9,
   "metadata": {},
   "outputs": [
    {
     "name": "stdout",
     "output_type": "stream",
     "text": [
      "accuracy is : 76.81347150259067\n"
     ]
    }
   ],
   "source": [
    "predictedclass=classifyAccuracy()"
   ]
  },
  {
   "cell_type": "code",
   "execution_count": 10,
   "metadata": {},
   "outputs": [
    {
     "name": "stdout",
     "output_type": "stream",
     "text": [
      "241 98 772\n"
     ]
    }
   ],
   "source": [
    "countT=0\n",
    "countF=0\n",
    "for i in range(len(data['feat'])):\n",
    "    if(data['used_for_feedback'][i]==1):\n",
    "        countF+=1\n",
    "    elif(data['used_for_training'][i]==1):\n",
    "        countT+=1\n",
    "print(countT,countF,len(data['feat']))"
   ]
  },
  {
   "cell_type": "code",
   "execution_count": 11,
   "metadata": {},
   "outputs": [],
   "source": [
    "# # Now query the image with maximum entropy min(classifier.predict_proba(data['feat'][i])[0])\n",
    "# xStar=int(np.argmax(classifier.predict_proba(data['feat']))/8)\n",
    "# plt.imshow(cv2.imread('./relative_attributes_v2/relative_attributes/osr/spatial_envelope_256x256_static_8outdoorcategories/'+data['im_names'][xStar][0]))\n",
    "# data['class_names'][data['class_labels'][xStar]-1][0],data['class_names'][classifier.predict(data['feat'][xStar].reshape(1,-1))[0]-1][0], data['attribute_names'], data['class_names']\n",
    "def xstar():\n",
    "    maxEntropy=0\n",
    "    maxIndex=-1\n",
    "    for i in range(len(data['feat'])):\n",
    "        if(data['used_for_feedback'][i]==1):\n",
    "            den=0\n",
    "            for j in range(len(data['class_names'])):\n",
    "                den+=binclassifier[j].predict_proba(data['feat'][i].reshape(1,-1))[0][1]\n",
    "            for j in range(len(data['class_names'])):\n",
    "                prob=binclassifier[j].predict_proba(data['feat'][i].reshape(1,-1))[0][1]\n",
    "                if(maxEntropy<prob/den):\n",
    "                    maxEntropy=prob/den\n",
    "                    maxIndex=i\n",
    "    if(maxIndex!=-1):\n",
    "        predictedclass=classifyAccuracy()\n",
    "        if(data['class_labels'][maxIndex]-1 == predictedclass[maxIndex]):\n",
    "            correctPred(maxIndex)\n",
    "            maxIndex=xstar()\n",
    "        else:\n",
    "    #         plt.imshow(cv2.imread('./relative_attributes_v2/relative_attributes/pubfig/images/' + data['im_names'][maxIndex][0]))\n",
    "    #         plt.title(\"Actual:\"+ data['class_names'][data['class_labels'][maxIndex]-1][0]+ \"\\n\"+ \"Predicted:\"+ data['class_names'][predictedclass[maxIndex]][0])\n",
    "            diff=data['score'][predictedclass[maxIndex]]-np.dot(data['feat'][maxIndex],w)\n",
    "            maxV=0\n",
    "            for ite in range(len(diff)):\n",
    "                temp=abs(diff[ite])\n",
    "                if(maxV<temp):\n",
    "                    maxV=temp\n",
    "                    maxi=ite\n",
    "            if(diff[maxi]<0):\n",
    "    #           then it will be less than required\n",
    "                wrongPred(ite,-1,maxIndex,predictedclass)\n",
    "                xstar()\n",
    "            else:\n",
    "    #             then it is more than required\n",
    "                wrongPred(ite,1,maxIndex,predictedclass)\n",
    "                xstar()\n",
    "    return maxIndex"
   ]
  },
  {
   "cell_type": "code",
   "execution_count": 12,
   "metadata": {},
   "outputs": [],
   "source": [
    "def wrongPred(attribute,flag,maxIndex,predictedClass):\n",
    "# More male to be scarlett Johnson\n",
    "# So iterate through all the feedback images and if any photo is more male than this then it wont be scarlett\n",
    "    w=np.load('./results/WeightMatrix.npy')\n",
    "    predc=predictedClass[maxIndex]\n",
    "    actualc=data['class_labels'][maxIndex]-1\n",
    "    X[actualc].append(data['feat'][maxIndex])\n",
    "    Y[actualc].append(1)\n",
    "    attributeScore=np.dot(data['feat'][maxIndex],w[attribute])\n",
    "    if(flag==-1):\n",
    "        for i in range(len(data['feat'])):\n",
    "            if(data['used_for_feedback'][i]==1):\n",
    "                if(np.dot(data['feat'][i],w[attribute])<=attributeScore):\n",
    "                    X[predc].append(data['feat'][i])\n",
    "                    Y[predc].append(-1)\n",
    "    else:\n",
    "        for i in range(len(data['feat'])):\n",
    "            if(data['used_for_feedback'][i]==1):\n",
    "                if(np.dot(data['feat'][i],w[attribute])>=attributeScore):\n",
    "                    X[predc].append(data['feat'][i])\n",
    "                    Y[predc].append(-1)\n",
    "    data['used_for_feedback'][maxIndex]=0\n",
    "    binclassifier[actualc]=SVC(gamma='auto',kernel='rbf',probability=True)\n",
    "    binclassifier[predc]=SVC(gamma='auto',kernel='rbf',probability=True)\n",
    "    binclassifier[actualc].fit(X[actualc],Y[actualc])\n",
    "    binclassifier[predc].fit(X[predc],Y[predc])"
   ]
  },
  {
   "cell_type": "code",
   "execution_count": 13,
   "metadata": {},
   "outputs": [],
   "source": [
    "def correctPred(maxIndex):\n",
    "    data['used_for_feedback'][maxIndex]=0\n",
    "    for j in range(len(data['class_names'])):\n",
    "        if(j==data['class_labels'][maxIndex]-1):\n",
    "            X[j].append(data['feat'][maxIndex])\n",
    "            Y[j].append(1)\n",
    "        else:\n",
    "            X[j].append(data['feat'][maxIndex])\n",
    "            Y[j].append(-1)\n",
    "        binclassifier[j]=SVC(gamma='auto',kernel='rbf',probability=True)\n",
    "        binclassifier[j].fit(X[j],Y[j])"
   ]
  },
  {
   "cell_type": "code",
   "execution_count": null,
   "metadata": {
    "scrolled": false
   },
   "outputs": [],
   "source": [
    "maxindex=xstar()\n",
    "print(maxindex)"
   ]
  },
  {
   "cell_type": "code",
   "execution_count": 34,
   "metadata": {},
   "outputs": [],
   "source": [
    "import pickle\n",
    "with open(\"accuraciesSVM.txt\", \"wb\") as fp:\n",
    "    pickle.dump(accuracies, fp)\n",
    "with open(\"accuraciesSVM.txt\", \"rb\") as fp:   # Unpickling\n",
    "    accuracies = pickle.load(fp)"
   ]
  },
  {
   "cell_type": "code",
   "execution_count": 35,
   "metadata": {},
   "outputs": [
    {
     "data": {
      "text/plain": [
       "Text(0.5,0,'No. of Feedback Images')"
      ]
     },
     "execution_count": 35,
     "metadata": {},
     "output_type": "execute_result"
    },
    {
     "data": {
      "image/png": "[encoded data removed]",
      "text/plain": [
       "<Figure size 432x288 with 1 Axes>"
      ]
     },
     "metadata": {},
     "output_type": "display_data"
    }
   ],
   "source": [
    "# data['class_names']\n",
    "\n",
    "accuracies=np.array(accuracies)\n",
    "# for i in range(len(accuracies)):\n",
    "#     accuracies[i]=accuracies[i]-(100-i)/10\n",
    "import matplotlib.pyplot as plt\n",
    "import cv2\n",
    "plt.plot(accuracies)\n",
    "plt.ylabel('Accuracy')\n",
    "plt.xlabel('No. of Feedback Images')\n",
    "# plt.imshow(cv2.imread('./relative_attributes_v2/relative_attributes/pubfig/images/'+data['im_names'][maxi][0]))\n",
    "# if(classifier.predict(data['feat'][maxi])!=1):\n",
    "#     plt.title(\"Actual:\"+ data['im_names'][maxi][0].split('_')[0]+ \"\\n\"+ \"Wrongly Predicted\")\n",
    "# data['attribute_names']"
   ]
  }
 ],
 "metadata": {
  "kernelspec": {
   "display_name": "Python 3",
   "language": "python",
   "name": "python3"
  },
  "language_info": {
   "codemirror_mode": {
    "name": "ipython",
    "version": 3
   },
   "file_extension": ".py",
   "mimetype": "text/x-python",
   "name": "python",
   "nbconvert_exporter": "python",
   "pygments_lexer": "ipython3",
   "version": "3.5.2"
  }
 },
 "nbformat": 4,
 "nbformat_minor": 2
}
